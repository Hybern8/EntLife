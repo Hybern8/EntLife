{
  "nbformat": 4,
  "nbformat_minor": 0,
  "metadata": {
    "colab": {
      "provenance": [],
      "authorship_tag": "ABX9TyM4JZPzPtb4n1vgAGPnsLDq",
      "include_colab_link": true
    },
    "kernelspec": {
      "name": "python3",
      "display_name": "Python 3"
    },
    "language_info": {
      "name": "python"
    }
  },
  "cells": [
    {
      "cell_type": "markdown",
      "metadata": {
        "id": "view-in-github",
        "colab_type": "text"
      },
      "source": [
        "<a href=\"https://colab.research.google.com/github/Hybern8/EntLife/blob/version2/Technical_dept_transfomer.ipynb\" target=\"_parent\"><img src=\"https://colab.research.google.com/assets/colab-badge.svg\" alt=\"Open In Colab\"/></a>"
      ]
    },
    {
      "cell_type": "code",
      "execution_count": 14,
      "metadata": {
        "id": "oY5XcVNuJLmL",
        "colab": {
          "base_uri": "https://localhost:8080/"
        },
        "outputId": "bfa90cdc-3f1a-4531-dead-13906d1807e8"
      },
      "outputs": [
        {
          "output_type": "stream",
          "name": "stdout",
          "text": [
            "The rpy2.ipython extension is already loaded. To reload it, use:\n",
            "  %reload_ext rpy2.ipython\n"
          ]
        }
      ],
      "source": [
        "%load_ext rpy2.ipython"
      ]
    },
    {
      "cell_type": "code",
      "source": [
        "%%R\n",
        "\n",
        "\n",
        "install.packages(\"openxlsx\")\n",
        "\n",
        "# Load in the libraries\n",
        "\n",
        "library(dplyr) # for data manipulation\n",
        "library(tidyr) # for data manipulation\n",
        "library(openxlsx) # for date data type"
      ],
      "metadata": {
        "collapsed": true,
        "id": "NdTuNUdhJQ2V"
      },
      "execution_count": 15,
      "outputs": []
    },
    {
      "cell_type": "code",
      "source": [
        "from google.colab import drive\n",
        "drive.mount('/content/drive')"
      ],
      "metadata": {
        "id": "P5YRwMuBObyc",
        "colab": {
          "base_uri": "https://localhost:8080/"
        },
        "outputId": "f7a82340-1055-4832-a2b7-567fa1be5a03"
      },
      "execution_count": 16,
      "outputs": [
        {
          "output_type": "stream",
          "name": "stdout",
          "text": [
            "Drive already mounted at /content/drive; to attempt to forcibly remount, call drive.mount(\"/content/drive\", force_remount=True).\n"
          ]
        }
      ]
    },
    {
      "cell_type": "code",
      "source": [
        "folder_path = '/content/drive/Othercomputers/Decipher/Documents/Quarterhill/TechRep'"
      ],
      "metadata": {
        "id": "Tvcsk-p_PNUR"
      },
      "execution_count": 17,
      "outputs": []
    },
    {
      "cell_type": "code",
      "source": [
        "%%R -i folder_path\n",
        "setwd(folder_path)\n",
        "\n",
        "# Verify the working directory\n",
        "getwd()"
      ],
      "metadata": {
        "id": "G7kNGYIbPxU0",
        "colab": {
          "base_uri": "https://localhost:8080/"
        },
        "outputId": "cea259f0-550d-4566-f815-f24e258d7d12"
      },
      "execution_count": 18,
      "outputs": [
        {
          "output_type": "stream",
          "name": "stdout",
          "text": [
            "[1] \"/content/drive/Othercomputers/Decipher/Documents/Quarterhill/TechRep\"\n"
          ]
        }
      ]
    },
    {
      "cell_type": "code",
      "source": [
        "%%R\n",
        "# Read in data for column names\n",
        "col_names <- read.xlsx(\"Ref_file/col_names.xlsx\", colNames = T)\n",
        "\n",
        "# Read in data & split columns\n",
        "Raw <- read.csv('dataset/Raw.csv',stringsAsFactors = F)\n",
        "data <- Raw %>%\n",
        "  separate(`ELAC.SEARCH.PAYER.EXTRACT.INDEX.1`,\n",
        "           into = c(\"A\", \"B\", \"C\", \"D\", \"E\", \"F\", \"G\", \"H\", \"I\", \"J\", \"K\", \"L\"),\n",
        "           sep = \"~\", fill = \"right\") %>%\n",
        "  separate(`ELAC.SEARCH.PAYER.EXTRACT.INDEX.2`,\n",
        "           into = c(\"A1\", \"B1\", \"C1\", \"D1\", \"E1\", \"F1\", \"G1\", \"H1\", \"I1\", \"J1\", \"K1\", \"L1\"),\n",
        "           sep = \"~\", fill = \"right\") %>%\n",
        "  separate(`ELAC.SEARCH.PAYER.EXTRACT.INDEX.3`,\n",
        "           into = c(\"A2\", \"B2\", \"C2\", \"D2\", \"E2\", \"F2\", \"G2\", \"H2\", \"I2\", \"J2\"),\n",
        "           sep = \"~\", fill = \"right\") %>%\n",
        "  separate(`ELAC.SEARCH.PAYER.EXTRACT.INDEX.4`,\n",
        "           into = c(\"A3\", \"B3\", \"C3\", \"D3\", \"E3\", \"F3\", \"G3\", \"H3\", \"I3\"),\n",
        "           sep = \"~\", fill = \"right\") %>%\n",
        "  separate(`ELAC.SEARCH.PAYER.EXTRACT.INDEX.5`,\n",
        "           into = c(\"A4\", \"B4\", \"C4\", \"D4\", \"E4\", \"F4\"),\n",
        "           sep = \"~\", fill = \"right\")\n",
        "\n",
        "# Rename column names\n",
        "colnames(data) <- colnames(col_names)"
      ],
      "metadata": {
        "id": "hq4VbXy2MxGb"
      },
      "execution_count": 19,
      "outputs": []
    },
    {
      "cell_type": "code",
      "source": [
        "%%R\n",
        "dim(Raw)"
      ],
      "metadata": {
        "id": "3wdQHz7SQ1YG",
        "colab": {
          "base_uri": "https://localhost:8080/"
        },
        "outputId": "bda70579-9493-4166-90f0-b7c3147712b7"
      },
      "execution_count": 20,
      "outputs": [
        {
          "output_type": "stream",
          "name": "stdout",
          "text": [
            "[1] 34710    22\n"
          ]
        }
      ]
    },
    {
      "cell_type": "code",
      "source": [
        "%%R\n",
        "# List of all the files in teh dataset folder\n",
        "files <- list.files(path = \"dataset\", full.names = T)\n",
        "# delete all the files to keep the folder ready for next job\n",
        "# unlink(files) - Keep in view for v3\n",
        "# Write used raw data into [Used] folder to keep track of jobs\n",
        "write.csv(Raw, paste0(\"Used/Raw_\", Sys.Date(), \".csv\"), row.names = F)\n"
      ],
      "metadata": {
        "id": "XbZZWod8Z862"
      },
      "execution_count": 21,
      "outputs": []
    },
    {
      "cell_type": "code",
      "source": [
        "%%R\n",
        "# Fist report data selection\n",
        "select_data <- data %>%\n",
        "  select(`SURNAME-PAYER`,\n",
        "         `FIRST-NAMES-PAYER`,\n",
        "         `PAYER-PHONE-CELL`,\n",
        "         `PAYER-PHONE-WORK`,\n",
        "         `PAYER-PHONE-HOME`,\n",
        "         `AGENT-ALIAS-NAME`,\n",
        "         `CONTRACT-PAYMENT-STATUS-REASON`,\n",
        "         `CONTRACT-PAYMENT-FREQUENCY`,\n",
        "         VALUE2,\n",
        "         `NUMBER-OF-OUTSTANDING-PAYMENTS`,\n",
        "         `CONTRACT-ID`) %>%\n",
        "  filter(`CONTRACT-PAYMENT-STATUS-REASON` %in% c(\"ACTIVE\", \"PAID-UP\", \"PAYMENT-LAPSED\")) %>%\n",
        "  filter(`NUMBER-OF-OUTSTANDING-PAYMENTS` > 1)\n",
        "\n",
        "# Second report data selection\n",
        "next_select_data <- data %>%\n",
        "  select(`SURNAME-PAYER`,\n",
        "         `FIRST-NAMES-PAYER`,\n",
        "         `PAYER-PHONE-CELL`,\n",
        "         `PAYER-PHONE-WORK`,\n",
        "         `PAYER-PHONE-HOME`,\n",
        "         `AGENT-ALIAS-NAME`,\n",
        "         `CONTRACT-PAYMENT-STATUS-REASON`,\n",
        "         `CONTRACT-PAYMENT-FREQUENCY`,\n",
        "         VALUE2,\n",
        "         `NUMBER-OF-OUTSTANDING-PAYMENTS`,\n",
        "         `CONTRACT-ID`,\n",
        "         `PREVIOUS-CONTRACT-PAYMENT-POSITION`) %>%\n",
        "  filter(`CONTRACT-PAYMENT-STATUS-REASON` %in% c(\"ACTIVE\", \"PAID-UP\", \"PAYMENT-LAPSED\")) %>%\n",
        "  filter(`NUMBER-OF-OUTSTANDING-PAYMENTS` > 1) %>%\n",
        "  filter(`PREVIOUS-CONTRACT-PAYMENT-POSITION` < 0)"
      ],
      "metadata": {
        "id": "R3fxd9AjRh1U"
      },
      "execution_count": 22,
      "outputs": []
    },
    {
      "cell_type": "code",
      "source": [
        "%%R\n",
        "# Write and save both files\n",
        "cleaned_alpha <- write.xlsx(select_data, paste0(\"Cleaned/Cleaned_alpha_\", Sys.Date(), \".xlsx\"), row.names = F)\n",
        "cleaned_beta <- write.xlsx(next_select_data, paste0(\"Cleaned/Cleaned_beta_\", Sys.Date(), \".xlsx\"), row.names = F)"
      ],
      "metadata": {
        "id": "_BiXpgv8Rr5F"
      },
      "execution_count": 23,
      "outputs": []
    }
  ]
}