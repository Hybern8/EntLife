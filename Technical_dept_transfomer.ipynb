{
  "nbformat": 4,
  "nbformat_minor": 0,
  "metadata": {
    "colab": {
      "provenance": [],
      "authorship_tag": "ABX9TyM7Kn2M3+56/uDbX6WeMmyA",
      "include_colab_link": true
    },
    "kernelspec": {
      "name": "python3",
      "display_name": "Python 3"
    },
    "language_info": {
      "name": "python"
    }
  },
  "cells": [
    {
      "cell_type": "markdown",
      "metadata": {
        "id": "view-in-github",
        "colab_type": "text"
      },
      "source": [
        "<a href=\"https://colab.research.google.com/github/Hybern8/EntLife/blob/version3/Technical_dept_transfomer.ipynb\" target=\"_parent\"><img src=\"https://colab.research.google.com/assets/colab-badge.svg\" alt=\"Open In Colab\"/></a>"
      ]
    },
    {
      "cell_type": "markdown",
      "source": [
        "### Data Transformation process for extracting & transforming ET's transctions data into a more analytical format.\n",
        "\n",
        "Process\n",
        "\n",
        "\n",
        "1.   Download data from core application and save into designated folder\n",
        "2.   Rename file to \"Raw\"\n",
        "3.   Run this script by [Runtime > Run all]\n",
        "\n"
      ],
      "metadata": {
        "id": "gvoWn5Hh-Yf0"
      }
    },
    {
      "cell_type": "markdown",
      "source": [
        "### Load R magic on Python"
      ],
      "metadata": {
        "id": "1scd7h7X_Z8x"
      }
    },
    {
      "cell_type": "code",
      "execution_count": null,
      "metadata": {
        "id": "oY5XcVNuJLmL"
      },
      "outputs": [],
      "source": [
        "%load_ext rpy2.ipython"
      ]
    },
    {
      "cell_type": "markdown",
      "source": [
        "### Install \"openxlsx\", load other relevant libraries"
      ],
      "metadata": {
        "id": "uNhnuCfe_eyP"
      }
    },
    {
      "cell_type": "code",
      "source": [
        "%%R\n",
        "\n",
        "install.packages(\"openxlsx\")\n",
        "\n",
        "# Load in the libraries\n",
        "\n",
        "library(dplyr) # for data manipulation\n",
        "library(tidyr) # for data manipulation\n",
        "library(openxlsx) # for data reading & writing"
      ],
      "metadata": {
        "collapsed": true,
        "id": "NdTuNUdhJQ2V"
      },
      "execution_count": null,
      "outputs": []
    },
    {
      "cell_type": "markdown",
      "source": [
        "### Mount Google drive to access designated folders for data transformation and for the transformed data"
      ],
      "metadata": {
        "id": "YO7tt_mO_xS7"
      }
    },
    {
      "cell_type": "code",
      "source": [
        "from google.colab import drive\n",
        "drive.mount('/content/drive')"
      ],
      "metadata": {
        "id": "P5YRwMuBObyc"
      },
      "execution_count": null,
      "outputs": []
    },
    {
      "cell_type": "markdown",
      "source": [
        "### Designate folders"
      ],
      "metadata": {
        "id": "LTbuCsfE_9kL"
      }
    },
    {
      "cell_type": "code",
      "source": [
        "folder_path = '/content/drive/Othercomputers/Decipher/Documents/Quarterhill/TechRep'"
      ],
      "metadata": {
        "id": "Tvcsk-p_PNUR"
      },
      "execution_count": null,
      "outputs": []
    },
    {
      "cell_type": "markdown",
      "source": [
        "### Set working directory and confirm working directory is live"
      ],
      "metadata": {
        "id": "JEcgZue5ALMZ"
      }
    },
    {
      "cell_type": "code",
      "source": [
        "%%R -i folder_path\n",
        "setwd(folder_path)\n",
        "\n",
        "# Verify the working directory\n",
        "getwd()"
      ],
      "metadata": {
        "id": "G7kNGYIbPxU0"
      },
      "execution_count": null,
      "outputs": []
    },
    {
      "cell_type": "markdown",
      "source": [
        "### Read in raw data for renaming columns. Read in Raw data, split into usable columns and transform"
      ],
      "metadata": {
        "id": "lM0DqR1MAU9x"
      }
    },
    {
      "cell_type": "code",
      "source": [
        "%%R\n",
        "# Read in data for column names\n",
        "col_names <- read.xlsx(\"Ref_file/col_names.xlsx\", colNames = T)\n",
        "\n",
        "# Read in data & split columns\n",
        "Raw <- read.csv('dataset/Raw.csv',stringsAsFactors = F)\n",
        "data <- Raw %>%\n",
        "  separate(`ELAC.SEARCH.PAYER.EXTRACT.INDEX.1`,\n",
        "           into = c(\"A\", \"B\", \"C\", \"D\", \"E\", \"F\", \"G\", \"H\", \"I\", \"J\", \"K\", \"L\"),\n",
        "           sep = \"~\", fill = \"right\") %>%\n",
        "  separate(`ELAC.SEARCH.PAYER.EXTRACT.INDEX.2`,\n",
        "           into = c(\"A1\", \"B1\", \"C1\", \"D1\", \"E1\", \"F1\", \"G1\", \"H1\", \"I1\", \"J1\", \"K1\", \"L1\"),\n",
        "           sep = \"~\", fill = \"right\") %>%\n",
        "  separate(`ELAC.SEARCH.PAYER.EXTRACT.INDEX.3`,\n",
        "           into = c(\"A2\", \"B2\", \"C2\", \"D2\", \"E2\", \"F2\", \"G2\", \"H2\", \"I2\", \"J2\"),\n",
        "           sep = \"~\", fill = \"right\") %>%\n",
        "  separate(`ELAC.SEARCH.PAYER.EXTRACT.INDEX.4`,\n",
        "           into = c(\"A3\", \"B3\", \"C3\", \"D3\", \"E3\", \"F3\", \"G3\", \"H3\", \"I3\"),\n",
        "           sep = \"~\", fill = \"right\") %>%\n",
        "  separate(`ELAC.SEARCH.PAYER.EXTRACT.INDEX.5`,\n",
        "           into = c(\"A4\", \"B4\", \"C4\", \"D4\", \"E4\", \"F4\"),\n",
        "           sep = \"~\", fill = \"right\")\n",
        "\n",
        "# Rename column names\n",
        "colnames(data) <- colnames(col_names)"
      ],
      "metadata": {
        "id": "hq4VbXy2MxGb"
      },
      "execution_count": null,
      "outputs": []
    },
    {
      "cell_type": "markdown",
      "source": [
        "### Check data was read in by confirming data dimension"
      ],
      "metadata": {
        "id": "tj3Ww_wqAuv8"
      }
    },
    {
      "cell_type": "code",
      "source": [
        "%%R\n",
        "dim(Raw)"
      ],
      "metadata": {
        "id": "3wdQHz7SQ1YG"
      },
      "execution_count": null,
      "outputs": []
    },
    {
      "cell_type": "markdown",
      "source": [
        "### Move raw data into \"used\" folderto verify data was used for transformation"
      ],
      "metadata": {
        "id": "QjxC4zXQAz0U"
      }
    },
    {
      "cell_type": "code",
      "source": [
        "%%R\n",
        "# List of all the files in teh dataset folder\n",
        "files <- list.files(path = \"dataset\", full.names = T)\n",
        "# delete all the files to keep the folder ready for next job\n",
        "# unlink(files) - Keep in view for v4\n",
        "# Write used raw data into [Used] folder to keep track of jobs\n",
        "write.csv(Raw, paste0(\"Used/Raw_\", Sys.Date(), \".csv\"), row.names = F)\n"
      ],
      "metadata": {
        "id": "XbZZWod8Z862"
      },
      "execution_count": null,
      "outputs": []
    },
    {
      "cell_type": "markdown",
      "source": [
        "### Create first & second dataframe, and select relevant folder, dropping useless ones"
      ],
      "metadata": {
        "id": "cCNPj_MzBBbt"
      }
    },
    {
      "cell_type": "code",
      "source": [
        "%%R\n",
        "# Fist report data selection\n",
        "select_data <- data %>%\n",
        "  select(`SURNAME-PAYER`,\n",
        "         `FIRST-NAMES-PAYER`,\n",
        "         `PAYER-PHONE-CELL`,\n",
        "         `PAYER-PHONE-WORK`,\n",
        "         `PAYER-PHONE-HOME`,\n",
        "         `AGENT-ALIAS-NAME`,\n",
        "         `CONTRACT-PAYMENT-STATUS-REASON`,\n",
        "         `CONTRACT-PAYMENT-FREQUENCY`,\n",
        "         VALUE2,\n",
        "         `NUMBER-OF-OUTSTANDING-PAYMENTS`,\n",
        "         `CONTRACT-ID`) %>%\n",
        "  filter(`CONTRACT-PAYMENT-STATUS-REASON` %in% c(\"ACTIVE\", \"PAID-UP\", \"PAYMENT-LAPSED\")) %>%\n",
        "  filter(`NUMBER-OF-OUTSTANDING-PAYMENTS` > 1)\n",
        "\n",
        "# Second report data selection\n",
        "next_select_data <- data %>%\n",
        "  select(`SURNAME-PAYER`,\n",
        "         `FIRST-NAMES-PAYER`,\n",
        "         `PAYER-PHONE-CELL`,\n",
        "         `PAYER-PHONE-WORK`,\n",
        "         `PAYER-PHONE-HOME`,\n",
        "         `AGENT-ALIAS-NAME`,\n",
        "         `CONTRACT-PAYMENT-STATUS-REASON`,\n",
        "         `CONTRACT-PAYMENT-FREQUENCY`,\n",
        "         VALUE2,\n",
        "         `NUMBER-OF-OUTSTANDING-PAYMENTS`,\n",
        "         `CONTRACT-ID`,\n",
        "         `PREVIOUS-CONTRACT-PAYMENT-POSITION`) %>%\n",
        "  filter(`CONTRACT-PAYMENT-STATUS-REASON` %in% c(\"ACTIVE\", \"PAID-UP\", \"PAYMENT-LAPSED\")) %>%\n",
        "  filter(`NUMBER-OF-OUTSTANDING-PAYMENTS` > 1) %>%\n",
        "  filter(`PREVIOUS-CONTRACT-PAYMENT-POSITION` < 0)"
      ],
      "metadata": {
        "id": "R3fxd9AjRh1U"
      },
      "execution_count": null,
      "outputs": []
    },
    {
      "cell_type": "markdown",
      "source": [
        "### Write in and save output in designated folder"
      ],
      "metadata": {
        "id": "xXAVfXOYBQPl"
      }
    },
    {
      "cell_type": "code",
      "source": [
        "%%R\n",
        "# Write and save both files\n",
        "cleaned_alpha <- write.xlsx(select_data, paste0(\"Cleaned/Cleaned_alpha_\", Sys.Date(), \".xlsx\"), row.names = F)\n",
        "cleaned_beta <- write.xlsx(next_select_data, paste0(\"Cleaned/Cleaned_beta_\", Sys.Date(), \".xlsx\"), row.names = F)"
      ],
      "metadata": {
        "id": "_BiXpgv8Rr5F"
      },
      "execution_count": null,
      "outputs": []
    }
  ]
}